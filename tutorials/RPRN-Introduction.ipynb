{
 "cells": [
  {
   "cell_type": "markdown",
   "metadata": {},
   "source": [
    "# Robustness and Plasticity in Regulatory Networks\n",
    "\n",
    "* [Introduction](#Introduction)\n",
    "    * [Robustness and plasticity in biological systems](#Robustness-and-plasticity-in-biological-systems)\n",
    "    * [Perturbations of Boolean regulatory networks](#Perturbations-of-Boolean-Regulatory-Networks)\n",
    "    * [Biological system: Th17/iTreg network](#Biological-system:-Th17/iTreg-network)\n",
    "* [BoolNet](./RPRN-BoolNet.ipynb)\n",
    "    * Installation\n",
    "    * Construction\n",
    "    * Attractors\n",
    "    * Labels\n",
    "* [Functions](./RPRN-Functions.ipynb)\n",
    "    * Over-expression and KnockOuts\n",
    "    * Fixed environments\n",
    "    * Truth tables\n",
    "* [Updating](./RPRN-Updating.ipynb)\n",
    "    * Synchronous vs asynchronous\n",
    "    * Transition table\n",
    "* [States and trajectories](./RPRN-States-Trajectories.ipynb)\n",
    "    * Transient perturbations\n",
    "    * Stochastic noise\n",
    "* [Appendix](./RPRN-Appendix.ipynb)\n",
    "    * Simulation and model checking\n",
    "    * Importing and exporting with SBML-qual"
   ]
  },
  {
   "cell_type": "markdown",
   "metadata": {},
   "source": [
    "# Introduction\n",
    "\n",
    "[//]: # (## About)\n",
    "\n",
    "This tutorial explains how to use [BoolNet](https://cran.r-project.org/web/packages/BoolNet/index.html) and [BoolNetPerturb](https://github.com/mar-esther23/boolnet-perturb) to study the robustness of Boolean regulatory networks and the biological implications of this networks.\n",
    "\n",
    "This tutorial supposes that the reader is familiar with the basic concepts of:\n",
    "* __Boolean regulatory networks__. There are a lot of basic introductions to the topic like: [Kaplan & Glass, 1995](https://books.google.com.mx/books?id=kfmThocv1qsC&pg=PA55#v=onepage&q&f=false), [Azpeitia 2011](http://journal.frontiersin.org/article/10.3389/fpls.2011.00092/abstract) and [Albert 2014](http://onlinelibrary.wiley.com/doi/10.1002/wsbm.1273/full). [CoLoMoTo](http://www.colomoto.org/) also published a more advanced review [CoLoMoTo 2015](http://www.biorxiv.org/content/biorxiv/early/2014/10/19/010504.full.pdf) full of useful references. \n",
    "* __R programming language__. A good starting point is the [R programming course](https://www.coursera.org/course/rprog) at Coursera.\n",
    "* __Molecular biology__. Contact your local biologist.\n",
    "* __Robustness__. The book [Wagner 2005](https://books.google.com.mx/books?id=pRFYAQAAQBAJ&printsec=frontcover#v=onepage&q&f=false) was a great inspiration for this work, the introduction is a good place to start."
   ]
  },
  {
   "cell_type": "markdown",
   "metadata": {},
   "source": [
    "## Robustness and plasticity in biological systems\n",
    "\n",
    "Organisms develop in a changing world where they are exposed to intrinsic and extrinsic perturbations. Because of this perturbations, they need to be both resilient and capable of altering their phenotype depending of the situation. This two behaviors coexist in all organisms, which suggests that there are common mechanism that underlie both robustness and plasticity. \n",
    "\n",
    "Robustness is the capacity of an organism of maintaining its biological function in response to perturbations\\cite{Wagner2005}, while plasticity is an organism's capacity of changing from one state or function to an other in response to perturbations. However, for studying robustness and plasticity it is necessary to determine _what_ function of the system is robust to _which_ kind of perturbations.\n",
    "\n",
    "Boolean Regulatory Networks (RN) are a useful tool for studying the differentiation, robustness and plasticity of biological systems in response to different kinds of perturbations. \n",
    "RN integrate the available information of the molecular regulation to predict cellular level phenomena using a mathematical formalism. The model recovers the attractors of the system, which correspond to the biological cell types or processes. \n",
    "The robustness and plasticity of this attractors in response to perturbations of the model can be used to study the robustness and plasticity of the biological system. \n",
    "\n",
    "We can say that an _attractor_ is robust to a perturbation if the RNm returns to the same attractor, or plastic if the RN transitions to a different attractor. \n",
    "The robustness or plasticity of the _system_ is the result of the individual robustness and plasticity of all its attractors. In this way, robustness is a characteristic of the system that emerges from the dynamic properties of its elements in response to perturbations.\n",
    "\n",
    "The robustness of the attractors and of the system will be differ according to the perturbation. RN let us study multiple kinds of perturbations depending in which part of the RN we alter.\n"
   ]
  },
  {
   "cell_type": "markdown",
   "metadata": {},
   "source": [
    "Robustness\n",
    "A system is robust if it can maintain its basic functions in the presence of internal and external errors.\n",
    "\n",
    "Resilience\n",
    "A system is resilient when it can adapt to internal and external errors by changing its method of operations while continuing to function.\n",
    "\n",
    "Redundancy\n",
    "Redundancy implies the presence of parallel functions and compo- nents that, if needed, can replace a missing function or component. \n",
    "\n",
    "From Network Science Chapter 8: Network Robustness Barabasi Chapter 8, Box 8.5"
   ]
  },
  {
   "cell_type": "markdown",
   "metadata": {},
   "source": [
    "## Perturbations of Boolean Regulatory Networks\n",
    "\n",
    "[//]: # (GRN have been used to study the differentiation, robustness and plasticity of developmental processes in different organisms\\cite{}.)\n",
    "\n",
    "Regulatory Networks (RN)  are deterministic dynamic systems. RN consist of nodes -that can be genes, proteins, biochemical or even biological processes- and edges -that represent the regulatory interactions among the nodes.  Using this information, it is possible to construct functions that describe the state of the nodes depending on the state of its regulators. The state of the node represents wether the gene or protein is active or inactive in the biological system. The effect of the environment can be included in this models as input nodes.\n",
    "The functions of the network are evaluated to obtain the stable states or attractors of the system. This attractors correspond to the biological cell types or processes\\cite{Kaufman}.\n",
    "[Fig1 A] \\cite{reviewReka?}.\n",
    "\n",
    "<img src=\"images/DiagramGRN.png\">"
   ]
  },
  {
   "cell_type": "markdown",
   "metadata": {},
   "source": [
    "It is possible to perturb the functions, the dynamics or the states ofthe RN.\n",
    "Each type of perturbation can be used to study different biological phenomena.\n",
    "\n",
    "\n",
    "Target\t\t|\tPerturbation\t\t|\tBiological equivalent\n",
    "------------|-----------------------|---------------------------\n",
    "Function\t|\tFixed functions\t\t|\tKnock-ot and over expressions, permanent changes in environment\n",
    "\t\t\t|\tTransition table\t|\tMisconstruction of the network, small changes in regulation (chromatin structure, alternative splicing, intrinsically disordered protein domains, post-translational modifications), evolvability\n",
    "Dynamic\t\t|\tUpdating\t\t\t|\tTime and hierarchy of biological processes.\n",
    "\t\t\t|\tState transitions\t|\tTransient biological behaivor.\n",
    "Attractor\t|\tState of nodes\t\t|\tTemporal changes in expression, transient environmental signals.\n",
    "\t\t\t|\tStochastic\t\t\t|\tBiological stochastic processes.\n",
    "\n",
    "The functions (and the topology) determine the value of the nodes. The relationship between the topology, the functions and the resulting attractors is complezx, for more information see \\cite{Azpeita2016?}. \n",
    "One possible kind of perturbation it to fix the value of the regulatory function to 0 or 1. The perturbation is equivalent to a knock-out or over-expression experiment. In this way it is possible to validate the model against known mutants. It can also be used to study the effect of conditional mutants of proteins that participate in multiple systems. As most RN mode only a small system the fixed function will only show the effect of the conditional mutation in the specific system. This can be useful if mutating the target protein is letal, as it can predict the effect of technically complicated conditional mutants. \n",
    "Fixing the value of the functions can also be used to study the effect of the environment in the differentiation and robustness of different cell types. Most cell-types are higly dependent on specific environments, which can be simulated by fixing the values of the inputs of the network.\n",
    "\n",
    "However, regulatory functions sometimes have smaller changes, where only part of the function is altered. It is possible to simulate this mutants by altering the truth table of the function, changing only part of its regulatory logic. This perturbations can be used to validate the network against misconstructions of the funtions, when the fine regulatory logic is uncertain. It is also useful to verify the stability of the cell types when the regulatory interactions can change as a result of hromatin structure, alternative splicing, intrinsically disordered protein domains or post-translational modifications. This partial changes in the functions have also been used to study the evolvability of biological systems, as the regulation of the gene expression can be mediated by changes in the promotors. This perturbations\n",
    "\n",
    "The order in which the functions are evaluated can also be perturbed. The two main schemas for updating are synchronous -where all functions are evaluated at the same time- or asynchronous -where each function is evaluated independently. Studying the robustness of the updating schema is useful for predicting the effect of temporal differences in the dynamic regulation of different proteins. If a process is faster than an other, or if there is a lag in its regulation, it will affect the dynamic of the regulatory logic. While most biological regulatory functions can be considered asynchronous using a synchronous schema for updating the model is easier. \n",
    "An other possible perturbation of the dynamic is to alter the sucessor states. Boolean regulatory networks are deterministic, the state in this time step determines the state in the next time step. However, it is possible to perturn the successor, changing the transition graph. This can alter -or not- the trajectory of the simulation and change the attractor. This is equivalent to developmental noise in the differentiation process of a cell.\n",
    "\n",
    "Once the system reaches an attractor the value of the nodes in the state can be altered by multiple factors. This perturbations are transient, if the perturbation is permanent it is equivalent to fixing the value of the function. This perturbations can be directed to a specific node for a certain time, or stochastic. This transient perturbations where the value of the node is modified are equivalent to biological stochastic noise, temporal alterations in the proteins or transient signals of the environment."
   ]
  },
  {
   "cell_type": "markdown",
   "metadata": {},
   "source": [
    "## Biological system: Th17/iTreg network\n",
    "\n",
    "In this work we will study the Th17/iTreg regulatory network. CD4 + T cells are fundamental for the adaptive immune response. They integrate the signals of the environment and differentiate into different cell types (Th1, Th2, Th17, iTreg, etc), which activate different parts of the immune system. In particular, Th17 cells have been associated with the inflammatory response and iTreg cells with the regulation of the inflammatory response.\n",
    "\n",
    "CD4+ T cells begin as naïve Th0 cells, which do not express a transcription factor. These cells are activated by antigen presentation and differentiate into different cell types depending in the cytokines in the environment. In the presence of IL-6 or IL-21 and TGF$\\beta$ Th0 cells differentiate into Th17 cells and express ROR$\\gamma$t, IL-21 and IL-17. In the presence of IL-2 and TGF$\\beta$ Th0 cells differentiate into iTreg cells and express Foxp3 and TGF$\\beta$. Interleukin-10 (IL-10) is a regulatory cytokine that is expressed in multiple cell types, it is activated by various cytokines including IL-6, IL-21 and TGF$\\beta$. These cytokines and transcription factors regulate each other and their relationships can be visualized a as graph.\n",
    "\n",
    "In this tutorial we will study the robustness and plasticity of the Th17/iTreg regulatory network in response to various kinds of perturbations.  \n",
    "\n",
    "\n",
    "<figure>\n",
    "    <a href=\"images/minTh17iTreg.png\">\n",
    "       <img src=\"images/minTh17iTreg.png\" alt=\"Th17/iTreg regulatory network\">\n",
    "    </a>\n",
    "<figcaption>\n",
    "    Th17/iTreg regulatory network\n",
    "</figcaption>\n",
    "</figure>\n"
   ]
  },
  {
   "cell_type": "markdown",
   "metadata": {},
   "source": [
    "# Index\n",
    "\n",
    "* Introduction\n",
    "* [BoolNet](./RPRN-BoolNet.ipynb)\n",
    "* [Functions](./RPRN-Functions.ipynb)\n",
    "* [Updating](./RPRN-Updating.ipynb)\n",
    "* [States and trajectories](./RPRN-States-Trajectories.ipynb)\n",
    "* [Appendix](./RPRN-Appendix.ipynb)"
   ]
  }
 ],
 "metadata": {
  "kernelspec": {
   "display_name": "R",
   "language": "R",
   "name": "ir"
  },
  "language_info": {
   "codemirror_mode": "r",
   "file_extension": ".r",
   "mimetype": "text/x-r-source",
   "name": "R",
   "pygments_lexer": "r",
   "version": "3.3.2"
  }
 },
 "nbformat": 4,
 "nbformat_minor": 0
}
